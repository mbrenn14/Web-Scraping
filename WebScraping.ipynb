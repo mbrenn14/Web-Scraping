{
  "metadata": {
    "kernelspec": {
      "name": "python",
      "display_name": "Python (Pyodide)",
      "language": "python"
    },
    "language_info": {
      "codemirror_mode": {
        "name": "python",
        "version": 3
      },
      "file_extension": ".py",
      "mimetype": "text/x-python",
      "name": "python",
      "nbconvert_exporter": "python",
      "pygments_lexer": "ipython3",
      "version": "3.8"
    }
  },
  "nbformat_minor": 4,
  "nbformat": 4,
  "cells": [
    {
      "cell_type": "code",
      "source": "import requests\nimport pandas as pd\nfrom bs4 import BeautifulSoup",
      "metadata": {
        "trusted": true
      },
      "outputs": [],
      "execution_count": null
    },
    {
      "cell_type": "code",
      "source": "html_doc =\"\"\"\n<table>\n  <tbody><tr>\n    <th>Student</th>\n    <th>Favourite Computer Language</th>\n    <th>Years of Experience</th>\n  </tr>\n  <tr>\n    <td>Fred</td>\n    <td>Kotlin</td>\n    <td>4</td>\n  </tr>\n  <tr>\n    <td>Paula</td>\n    <td>Python</td>\n    <td>2</td>\n  </tr>\n  <tr>\n    <td>Ernst</td>\n    <td>Java</td>\n    <td>7</td>\n  </tr>\n  <tr>\n    <td>Isabel</td>\n    <td>C++</td>\n    <td>3</td>\n  </tr>\n  <tr>\n    <td>Tony</td>\n    <td>Pearl</td>\n    <td>7</td>\n  </tr>\n  <tr>\n    <td>Maria</td>\n    <td>Cobol</td>\n    <td>15</td>\n  </tr>\n</tbody></table>\n\"\"\"\n",
      "metadata": {
        "trusted": true
      },
      "outputs": [],
      "execution_count": null
    },
    {
      "cell_type": "code",
      "source": "soup = BeautifulSoup(html_doc, 'html.parser')\ntable = soup.find('table')\n\nheaders = table.find_all(\"th\")\ntitles = []",
      "metadata": {
        "trusted": true
      },
      "outputs": [],
      "execution_count": null
    },
    {
      "cell_type": "code",
      "source": "for i in headers:\n    title = i.text\n    titles.append(title)\n\ndf2 = pd.DataFrame(columns=titles)\n\nrows = table.find_all(\"tr\")\n\nfor i in rows[1:]:\n    data = i.find_all(\"td\")\n    row = [tr.text for tr in data]\n    l =len(df2)\n    df2.loc[l]= row\n    df2.head()\n",
      "metadata": {
        "trusted": true
      },
      "outputs": [],
      "execution_count": null
    },
    {
      "cell_type": "code",
      "source": "print(df2)",
      "metadata": {
        "trusted": true
      },
      "outputs": [],
      "execution_count": null
    }
  ]
}